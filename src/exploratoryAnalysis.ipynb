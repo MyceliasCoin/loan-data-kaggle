{
 "cells": [
  {
   "cell_type": "markdown",
   "metadata": {},
   "source": [
    "# Lending Club - Loan Data Analysis"
   ]
  },
  {
   "cell_type": "markdown",
   "metadata": {},
   "source": [
    "## Context\n",
    "\n",
    "Lending Club is a US-based peer to peer lending company and represents the world's largest peer-to-peer lending platform. At a high level, investors provide funds for potential borrowers and investors earn a profit depending on the risk they shoulder based on borrower credit score.\n",
    "\n",
    "LendingClub enables borrowers to create unsecured personal loans between \\\\$1,000 and \\\\$40,000. Investors can search and browse loan listings on the Lending Club website and invest in loans based on the information supplied about the borrower, loan value, loan grade, and loan purpose. Investors make money from interest while LendingClub generates revenue by charging borrowers an origination fee and investors a service fee.\n",
    "\n",
    "For more information about Lending Club, please refer to the [wikipedia article](https://en.wikipedia.org/wiki/LendingClub)."
   ]
  },
  {
   "cell_type": "markdown",
   "metadata": {},
   "source": [
    "## Data Description\n",
    "\n",
    "The main `loan.csv` file [(download)](https://www.kaggle.com/wendykan/lending-club-loan-data) contains complete loan data for all loans issued through the 2007-2018, including the current loan status (Current, Late, Fully Paid, etc.) and latest payment information. Additional features include credit scores, number of finance inquiries, address including zip codes, state designation, and collections.\n",
    "\n",
    "The csv file is a table of ~2.3 million rows spanning ~145 columns. A data dictionary is provided in the separate `LCDataDictionary.xslx` file."
   ]
  },
  {
   "cell_type": "code",
   "execution_count": null,
   "metadata": {},
   "outputs": [],
   "source": [
    "# import required libraries\n",
    "import pandas as pd\n",
    "import plotly.graph_objects as go"
   ]
  },
  {
   "cell_type": "code",
   "execution_count": null,
   "metadata": {},
   "outputs": [],
   "source": [
    "# prespecify datatypes for more efficient loading given limited memory\n",
    "dtypes = {'id': 'float64', 'member_id': 'float64', 'loan_amnt': 'int64', 'funded_amnt': 'int64', 'funded_amnt_inv': 'float64', 'term': 'object', 'int_rate': 'float64', 'installment': 'float64', 'grade': 'object', 'sub_grade': 'object', 'emp_title': 'object', 'emp_length': 'object', 'home_ownership': 'object', 'annual_inc': 'float64', 'verification_status': 'object', 'issue_d': 'object', 'loan_status': 'object', 'pymnt_plan': 'object', 'url': 'float64', 'desc': 'object', 'purpose': 'object', 'title': 'object', 'zip_code': 'object', 'addr_state': 'object', 'dti': 'float64', 'delinq_2yrs': 'float64', 'earliest_cr_line': 'object', 'inq_last_6mths': 'float64', 'mths_since_last_delinq': 'float64', 'mths_since_last_record': 'float64', 'open_acc': 'float64', 'pub_rec': 'float64', 'revol_bal': 'int64', 'revol_util': 'float64', 'total_acc': 'float64', 'initial_list_status': 'object', 'out_prncp': 'float64', 'out_prncp_inv': 'float64', 'total_pymnt': 'float64', 'total_pymnt_inv': 'float64', 'total_rec_prncp': 'float64', 'total_rec_int': 'float64', 'total_rec_late_fee': 'float64', 'recoveries': 'float64', 'collection_recovery_fee': 'float64', 'last_pymnt_d': 'object', 'last_pymnt_amnt': 'float64', 'next_pymnt_d': 'object', 'last_credit_pull_d': 'object', 'collections_12_mths_ex_med': 'float64', 'mths_since_last_major_derog': 'float64', 'policy_code': 'int64', 'application_type': 'object', 'annual_inc_joint': 'float64', 'dti_joint': 'float64', 'verification_status_joint': 'object', 'acc_now_delinq': 'float64', 'tot_coll_amt': 'float64', 'tot_cur_bal': 'float64', 'open_acc_6m': 'float64', 'open_act_il': 'float64', 'open_il_12m': 'float64', 'open_il_24m': 'float64', 'mths_since_rcnt_il': 'float64', 'total_bal_il': 'float64', 'il_util': 'float64', 'open_rv_12m': 'float64', 'open_rv_24m': 'float64', 'max_bal_bc': 'float64', 'all_util': 'float64', 'total_rev_hi_lim': 'float64', 'inq_fi': 'float64', 'total_cu_tl': 'float64', 'inq_last_12m': 'float64', 'acc_open_past_24mths': 'float64', 'avg_cur_bal': 'float64', 'bc_open_to_buy': 'float64', 'bc_util': 'float64', 'chargeoff_within_12_mths': 'float64', 'delinq_amnt': 'float64', 'mo_sin_old_il_acct': 'float64', 'mo_sin_old_rev_tl_op': 'float64', 'mo_sin_rcnt_rev_tl_op': 'float64', 'mo_sin_rcnt_tl': 'float64', 'mort_acc': 'float64', 'mths_since_recent_bc': 'float64', 'mths_since_recent_bc_dlq': 'float64', 'mths_since_recent_inq': 'float64', 'mths_since_recent_revol_delinq': 'float64', 'num_accts_ever_120_pd': 'float64', 'num_actv_bc_tl': 'float64', 'num_actv_rev_tl': 'float64', 'num_bc_sats': 'float64', 'num_bc_tl': 'float64', 'num_il_tl': 'float64', 'num_op_rev_tl': 'float64', 'num_rev_accts': 'float64', 'num_rev_tl_bal_gt_0': 'float64', 'num_sats': 'float64', 'num_tl_120dpd_2m': 'float64', 'num_tl_30dpd': 'float64', 'num_tl_90g_dpd_24m': 'float64', 'num_tl_op_past_12m': 'float64', 'pct_tl_nvr_dlq': 'float64', 'percent_bc_gt_75': 'float64', 'pub_rec_bankruptcies': 'float64', 'tax_liens': 'float64', 'tot_hi_cred_lim': 'float64', 'total_bal_ex_mort': 'float64', 'total_bc_limit': 'float64', 'total_il_high_credit_limit': 'float64', 'revol_bal_joint': 'float64', 'sec_app_earliest_cr_line': 'object', 'sec_app_inq_last_6mths': 'float64', 'sec_app_mort_acc': 'float64', 'sec_app_open_acc': 'float64', 'sec_app_revol_util': 'float64', 'sec_app_open_act_il': 'float64', 'sec_app_num_rev_accts': 'float64', 'sec_app_chargeoff_within_12_mths': 'float64', 'sec_app_collections_12_mths_ex_med': 'float64', 'sec_app_mths_since_last_major_derog': 'float64', 'hardship_flag': 'object', 'hardship_type': 'object', 'hardship_reason': 'object', 'hardship_status': 'object', 'deferral_term': 'float64', 'hardship_amount': 'float64', 'hardship_start_date': 'object', 'hardship_end_date': 'object', 'payment_plan_start_date': 'object', 'hardship_length': 'float64', 'hardship_dpd': 'float64', 'hardship_loan_status': 'object', 'orig_projected_additional_accrued_interest': 'float64', 'hardship_payoff_balance_amount': 'float64', 'hardship_last_payment_amount': 'float64', 'disbursement_method': 'object', 'debt_settlement_flag': 'object', 'debt_settlement_flag_date': 'object', 'settlement_status': 'object', 'settlement_date': 'object', 'settlement_amount': 'float64', 'settlement_percentage': 'float64', 'settlement_term': 'float64'}\n",
    "\n",
    "loan_chunk = pd.read_csv('../data/loan.csv', dtype=dtypes, chunksize=100000)\n",
    "chunk_list = []\n",
    "for chunk in loan_chunk:\n",
    "    chunk_list.append(chunk)\n",
    "data_df = pd.concat(chunk_list)\n",
    "\n",
    "data_df.head()"
   ]
  },
  {
   "cell_type": "markdown",
   "metadata": {},
   "source": [
    "## Exploratory Analysis\n",
    "\n",
    "For the purposes of this analysis, we will focus on loan activity at the state level. This will provide insight into which states have higher operating activity and allow us to visualize findings using a choropleth map. In turn, we will dig into whether higher activity is attributable to factors such as personal income or risk.\n",
    "\n",
    "### Key Metrics\n",
    "\n",
    "To determine which states have higher operating activity, we will calculate the following three metrics by state:\n",
    "\n",
    "- Total Loans\n",
    "- Average Annual Income\n",
    "- Average Interest Rate"
   ]
  },
  {
   "cell_type": "code",
   "execution_count": null,
   "metadata": {},
   "outputs": [],
   "source": [
    "# return relevant loan amount and state abbreviation columns\n",
    "loan_amt_state = pd.DataFrame(data_df.loc[:, ['addr_state', 'loan_amnt', 'annual_inc', 'int_rate']])\n",
    "\n",
    "loan_amt_state.head()"
   ]
  },
  {
   "cell_type": "code",
   "execution_count": null,
   "metadata": {},
   "outputs": [],
   "source": [
    "# calculate total loans by state\n",
    "state_metrics = loan_amt_state.groupby('addr_state').aggregate(\n",
    "    {'loan_amnt' : ['sum'], 'annual_inc' : ['mean'], 'int_rate' : ['mean']}\n",
    ")\n",
    "\n",
    "# rename columns based on aggregation metrics\n",
    "state_metrics.columns = ['loan_amnt_sum', 'annual_inc_avg', 'int_rate_avg']\n",
    "\n",
    "state_metrics"
   ]
  },
  {
   "cell_type": "code",
   "execution_count": null,
   "metadata": {},
   "outputs": [],
   "source": [
    "# generate choropleth describing total loan activity\n",
    "fig1 = go.Figure(data=go.Choropleth(\n",
    "    locations=state_metrics.index, # state abbreviations\n",
    "    z = state_metrics['loan_amnt_sum'].astype(float), # data to be color-coded\n",
    "    locationmode = 'USA-states', # set of locations match entries in `locations`\n",
    "    colorscale = 'Blues',\n",
    "    colorbar_title = \"USD\",\n",
    "))\n",
    "\n",
    "fig1.update_layout(\n",
    "    title_text = 'Total Loans by State',\n",
    "    geo_scope='usa', # limite map scope to USA\n",
    ")\n",
    "\n",
    "fig1.show()"
   ]
  },
  {
   "cell_type": "markdown",
   "metadata": {},
   "source": [
    "### Findings\n",
    "\n",
    "Based on the above choropleth, New York, California, Texas, and Florida have the highest amount of absolute loans across all states.\n",
    "\n",
    "Diving deeper, we can see below that these four states have an interest rate of about 13%, which is roughly equivalent to the average national interest rate (13.11%). Therefore, interest rate is likely not a strong predictor for why most loans are issued in these four states.\n",
    "\n",
    "What about average income? Well New York (81k), California (84k), and Texas (83k) are well above the average national income (74k), which may explain why most loan activity comes from those three states. Note here that Florida bucks the trend as it has average state income (73k) close to average national income, but still has high loan activity."
   ]
  },
  {
   "cell_type": "code",
   "execution_count": null,
   "metadata": {},
   "outputs": [],
   "source": [
    "# select New York, California, Texas, and Florida for easier viewing\n",
    "state_metrics.loc[['NY', 'CA', 'TX', 'FL']]"
   ]
  },
  {
   "cell_type": "code",
   "execution_count": null,
   "metadata": {},
   "outputs": [],
   "source": [
    "# generate statistics for state metrics, focus on mean at national level\n",
    "state_metrics.describe()"
   ]
  },
  {
   "cell_type": "code",
   "execution_count": null,
   "metadata": {},
   "outputs": [],
   "source": [
    "# generate choropleth describing average state income\n",
    "fig2 = go.Figure(data=go.Choropleth(\n",
    "    locations=state_metrics.index, # state abbreviations\n",
    "    z = state_metrics['annual_inc_avg'].astype(float), # data to be color-coded\n",
    "    locationmode = 'USA-states', # set of locations match entries in `locations`\n",
    "    colorscale = 'Blues',\n",
    "    colorbar_title = \"USD\",\n",
    "))\n",
    "\n",
    "fig2.update_layout(\n",
    "    title_text = 'Average Income by State',\n",
    "    geo_scope='usa', # limite map scope to USA\n",
    ")\n",
    "\n",
    "fig2.show()"
   ]
  },
  {
   "cell_type": "markdown",
   "metadata": {},
   "source": [
    "Given the diverse nature of this dataset, there are many additional analyses we could have explored.\n",
    "\n",
    "Please refer to other Kaggle kernels [here](https://www.kaggle.com/wendykan/lending-club-loan-data/kernels) for further reference."
   ]
  }
 ],
 "metadata": {
  "kernelspec": {
   "display_name": "Python 3",
   "language": "python",
   "name": "python3"
  },
  "language_info": {
   "codemirror_mode": {
    "name": "ipython",
    "version": 3
   },
   "file_extension": ".py",
   "mimetype": "text/x-python",
   "name": "python",
   "nbconvert_exporter": "python",
   "pygments_lexer": "ipython3",
   "version": "3.6.8"
  }
 },
 "nbformat": 4,
 "nbformat_minor": 2
}
